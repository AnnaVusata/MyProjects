{
 "cells": [
  {
   "cell_type": "code",
   "execution_count": 11,
   "metadata": {},
   "outputs": [],
   "source": [
    "import numpy as np\n",
    "from datetime import time"
   ]
  },
  {
   "cell_type": "code",
   "execution_count": 14,
   "metadata": {
    "scrolled": true
   },
   "outputs": [
    {
     "name": "stdout",
     "output_type": "stream",
     "text": [
      "Wall time: 1min 6s\n"
     ]
    }
   ],
   "source": [
    "%%time\n",
    "table1 = np.genfromtxt(\"data/household_power_consumption.txt\", delimiter=';', usecols=range(2, 9), skip_header=True)\n",
    "table2 = np.loadtxt(\"data/household_power_consumption.txt\", delimiter=';', dtype=str, usecols=range(0,2), skiprows=1)"
   ]
  },
  {
   "cell_type": "code",
   "execution_count": 52,
   "metadata": {},
   "outputs": [
    {
     "name": "stdout",
     "output_type": "stream",
     "text": [
      "Wall time: 1min 9s\n"
     ]
    }
   ],
   "source": [
    "%%time\n",
    "\n",
    "def split_datetime(row):\n",
    "    result = []\n",
    "    for item in row[0].split('/'):\n",
    "        result.append(item)\n",
    "    for item in row[1].split(':')[:2]:\n",
    "        result.append(item)\n",
    "    return result\n",
    "\n",
    "temp = np.apply_along_axis(split_datetime, 1, table2)\n",
    "table = np.concatenate((temp, table1), axis=1).astype('float32')"
   ]
  },
  {
   "cell_type": "code",
   "execution_count": 54,
   "metadata": {
    "scrolled": false
   },
   "outputs": [
    {
     "data": {
      "text/plain": [
       "array([[1.600e+01, 1.200e+01, 2.006e+03, ..., 0.000e+00, 1.000e+00,\n",
       "        1.700e+01],\n",
       "       [1.600e+01, 1.200e+01, 2.006e+03, ..., 0.000e+00, 1.000e+00,\n",
       "        1.600e+01],\n",
       "       [1.600e+01, 1.200e+01, 2.006e+03, ..., 0.000e+00, 2.000e+00,\n",
       "        1.700e+01],\n",
       "       ...,\n",
       "       [2.600e+01, 1.100e+01, 2.010e+03, ..., 0.000e+00, 0.000e+00,\n",
       "        0.000e+00],\n",
       "       [2.600e+01, 1.100e+01, 2.010e+03, ..., 0.000e+00, 0.000e+00,\n",
       "        0.000e+00],\n",
       "       [2.600e+01, 1.100e+01, 2.010e+03, ..., 0.000e+00, 0.000e+00,\n",
       "        0.000e+00]], dtype=float32)"
      ]
     },
     "execution_count": 54,
     "metadata": {},
     "output_type": "execute_result"
    }
   ],
   "source": [
    "table"
   ]
  },
  {
   "cell_type": "code",
   "execution_count": 55,
   "metadata": {},
   "outputs": [
    {
     "data": {
      "text/plain": [
       "array([[  16.,   12., 2006., ...,    0.,    1.,   17.],\n",
       "       [  16.,   12., 2006., ...,    0.,    1.,   16.],\n",
       "       [  16.,   12., 2006., ...,    0.,    2.,   17.],\n",
       "       ...,\n",
       "       [  26.,   11., 2010., ...,    0.,    0.,    0.],\n",
       "       [  26.,   11., 2010., ...,    0.,    0.,    0.],\n",
       "       [  26.,   11., 2010., ...,    0.,    0.,    0.]], dtype=float32)"
      ]
     },
     "execution_count": 55,
     "metadata": {},
     "output_type": "execute_result"
    }
   ],
   "source": [
    "np.set_printoptions(suppress=True, precision=3)\n",
    "table"
   ]
  },
  {
   "cell_type": "code",
   "execution_count": 58,
   "metadata": {
    "scrolled": true
   },
   "outputs": [
    {
     "name": "stdout",
     "output_type": "stream",
     "text": [
      "Wall time: 335 ms\n"
     ]
    }
   ],
   "source": [
    "%%time\n",
    "table = table[~np.any(np.isnan(table), axis=1),:]"
   ]
  },
  {
   "cell_type": "markdown",
   "metadata": {},
   "source": [
    "## (1)\n",
    "Обрати всі рядки, у яких загальна актив. споживана потужн. > 5 кВт"
   ]
  },
  {
   "cell_type": "code",
   "execution_count": null,
   "metadata": {},
   "outputs": [],
   "source": [
    "%%time\n",
    "table[table[:,5] > 5,:]"
   ]
  },
  {
   "cell_type": "markdown",
   "metadata": {},
   "source": [
    "## (2)\n",
    "Обрати всі рядки, у яких вольтаж > 235 В."
   ]
  },
  {
   "cell_type": "code",
   "execution_count": 63,
   "metadata": {},
   "outputs": [
    {
     "name": "stdout",
     "output_type": "stream",
     "text": [
      "Wall time: 159 ms\n"
     ]
    },
    {
     "data": {
      "text/plain": [
       "array([[  16.,   12., 2006., ...,    0.,    1.,   17.],\n",
       "       [  16.,   12., 2006., ...,    0.,    2.,   17.],\n",
       "       [  16.,   12., 2006., ...,    0.,    1.,   17.],\n",
       "       ...,\n",
       "       [  26.,   11., 2010., ...,    0.,    0.,    0.],\n",
       "       [  26.,   11., 2010., ...,    0.,    0.,    0.],\n",
       "       [  26.,   11., 2010., ...,    0.,    0.,    0.]], dtype=float32)"
      ]
     },
     "execution_count": 63,
     "metadata": {},
     "output_type": "execute_result"
    }
   ],
   "source": [
    "%%time\n",
    "table[table[:,7] > 235,:]"
   ]
  },
  {
   "cell_type": "markdown",
   "metadata": {},
   "source": [
    "## (3)\n",
    "Обрати всі рядки, у яких 19<I<20 A, для них виявити ті, у яких пральна машина та холодильних\n",
    "споживають більше, ніж бойлер та кондиціонер"
   ]
  },
  {
   "cell_type": "code",
   "execution_count": 103,
   "metadata": {},
   "outputs": [
    {
     "name": "stdout",
     "output_type": "stream",
     "text": [
      "Wall time: 66.9 ms\n"
     ]
    },
    {
     "data": {
      "text/plain": [
       "array([[  16.,   12., 2006., ...,    0.,   37.,   16.],\n",
       "       [  17.,   12., 2006., ...,    0.,   13.,    0.],\n",
       "       [  17.,   12., 2006., ...,    0.,   27.,    0.],\n",
       "       ...,\n",
       "       [  24.,   11., 2010., ...,    0.,   40.,   17.],\n",
       "       [  24.,   11., 2010., ...,    0.,   39.,   17.],\n",
       "       [  24.,   11., 2010., ...,    0.,   39.,   17.]], dtype=float32)"
      ]
     },
     "execution_count": 103,
     "metadata": {},
     "output_type": "execute_result"
    }
   ],
   "source": [
    "%%time\n",
    "table[ (table[:,8] >= 19) &  (table[:,8] <= 20) & (table[:,10] > table[:,11]), :]"
   ]
  },
  {
   "cell_type": "markdown",
   "metadata": {},
   "source": [
    "## (4)\n",
    "Обрати випадковим чином 500000 рядків (без повторів\n",
    "елементів вибірки), для них обчислити середні величини усіх 3-х\n",
    "груп споживання електричної енергії, а також"
   ]
  },
  {
   "cell_type": "code",
   "execution_count": 87,
   "metadata": {},
   "outputs": [
    {
     "name": "stdout",
     "output_type": "stream",
     "text": [
      "Wall time: 244 ms\n"
     ]
    },
    {
     "data": {
      "text/plain": [
       "array([[  28.,    5., 2009., ...,    0.,    0.,    0.],\n",
       "       [  25.,    7., 2008., ...,    0.,    0.,    0.],\n",
       "       [   4.,    1., 2009., ...,    0.,    0.,    0.],\n",
       "       ...,\n",
       "       [  14.,    3., 2007., ...,    0.,    1.,    0.],\n",
       "       [  29.,    7., 2010., ...,    0.,    0.,   18.],\n",
       "       [  16.,    6., 2009., ...,    1.,    0.,   18.]], dtype=float32)"
      ]
     },
     "execution_count": 87,
     "metadata": {},
     "output_type": "execute_result"
    }
   ],
   "source": [
    "%%time\n",
    "rand = np.random.choice(np.arange(0,len(table)), 500000, replace=False)\n",
    "table[rand,:]"
   ]
  },
  {
   "cell_type": "code",
   "execution_count": 86,
   "metadata": {},
   "outputs": [
    {
     "name": "stdout",
     "output_type": "stream",
     "text": [
      "Mean1: 1.1219233274459839 Mean2: 1.2985199689865112 Mean3: 6.458447456359863\n",
      "Wall time: 35.7 ms\n"
     ]
    }
   ],
   "source": [
    "%%time\n",
    "Mean1 = np.mean(table[:,9])\n",
    "Mean2 = np.mean(table[:,10])\n",
    "Mean3 = np.mean(table[:,11])\n",
    "print(f\"Mean1: {Mean1}\",f\"Mean2: {Mean2}\", f\"Mean3: {Mean3}\")"
   ]
  },
  {
   "cell_type": "markdown",
   "metadata": {},
   "source": [
    "## (5)\n",
    "Обрати ті рядки, які після 18-00 споживають > 6\n",
    "кВт за хвилину в середньому, серед відібраних визначити ті, у яких\n",
    "основне споживання електроенергії у вказаний проміжок часу\n",
    "припадає на пральну машину, сушарку, холодильник та освітлення\n",
    "(група 2 є найбільшою), а потім обрати кожен третій результат із\n",
    "першої половини та кожен четвертий результат із другої половини."
   ]
  },
  {
   "cell_type": "code",
   "execution_count": 104,
   "metadata": {},
   "outputs": [
    {
     "name": "stdout",
     "output_type": "stream",
     "text": [
      "Wall time: 26.9 ms\n"
     ]
    }
   ],
   "source": [
    "%%time\n",
    "condition = table[(table[:,3] >= 18) & (table[:,5] > 6)]\n",
    "max_met2 = condition[(condition[:,10] > condition[:,9]) & (condition[:,10] >= condition[:,11]), :]\n",
    "first, second = np.array_split(max_met2, 2)"
   ]
  },
  {
   "cell_type": "code",
   "execution_count": 105,
   "metadata": {},
   "outputs": [
    {
     "data": {
      "text/plain": [
       "array([[  16.,   12., 2006., ...,    0.,   37.,   17.],\n",
       "       [  16.,   12., 2006., ...,    0.,   36.,   17.],\n",
       "       [  28.,   12., 2006., ...,    1.,   36.,   17.],\n",
       "       ...,\n",
       "       [  23.,    3., 2008., ...,    0.,   72.,   17.],\n",
       "       [  23.,    3., 2008., ...,    0.,   73.,   16.],\n",
       "       [  20.,    4., 2008., ...,    1.,   72.,   17.]], dtype=float32)"
      ]
     },
     "execution_count": 105,
     "metadata": {},
     "output_type": "execute_result"
    }
   ],
   "source": [
    "first[::3]"
   ]
  },
  {
   "cell_type": "code",
   "execution_count": 106,
   "metadata": {},
   "outputs": [
    {
     "data": {
      "text/plain": [
       "array([[  20.,    4., 2008., ...,    1.,   71.,   17.],\n",
       "       [  20.,    4., 2008., ...,    1.,   68.,   17.],\n",
       "       [  20.,    4., 2008., ...,    1.,   37.,   17.],\n",
       "       ...,\n",
       "       [  20.,   11., 2010., ...,   15.,   34.,   17.],\n",
       "       [  20.,   11., 2010., ...,   14.,   35.,   16.],\n",
       "       [  20.,   11., 2010., ...,   13.,   39.,   16.]], dtype=float32)"
      ]
     },
     "execution_count": 106,
     "metadata": {},
     "output_type": "execute_result"
    }
   ],
   "source": [
    "second[::4]"
   ]
  },
  {
   "cell_type": "code",
   "execution_count": null,
   "metadata": {},
   "outputs": [],
   "source": [
    "\n"
   ]
  }
 ],
 "metadata": {
  "kernelspec": {
   "display_name": "Python 3",
   "language": "python",
   "name": "python3"
  },
  "language_info": {
   "codemirror_mode": {
    "name": "ipython",
    "version": 3
   },
   "file_extension": ".py",
   "mimetype": "text/x-python",
   "name": "python",
   "nbconvert_exporter": "python",
   "pygments_lexer": "ipython3",
   "version": "3.7.4"
  }
 },
 "nbformat": 4,
 "nbformat_minor": 2
}
